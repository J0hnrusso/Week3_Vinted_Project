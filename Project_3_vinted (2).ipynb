{
 "cells": [
  {
   "cell_type": "code",
   "execution_count": 137,
   "id": "8a496b84-9108-4f69-b183-8b16364cb550",
   "metadata": {},
   "outputs": [
    {
     "name": "stdout",
     "output_type": "stream",
     "text": [
      "Requirement already satisfied: pyVinted in c:\\users\\marie-laure\\downloads\\sons\\nouveau dossier\\lib\\site-packages (0.5.2)\n",
      "Requirement already satisfied: requests in c:\\users\\marie-laure\\downloads\\sons\\nouveau dossier\\lib\\site-packages (from pyVinted) (2.32.3)\n",
      "Requirement already satisfied: charset-normalizer<4,>=2 in c:\\users\\marie-laure\\downloads\\sons\\nouveau dossier\\lib\\site-packages (from requests->pyVinted) (3.3.2)\n",
      "Requirement already satisfied: idna<4,>=2.5 in c:\\users\\marie-laure\\downloads\\sons\\nouveau dossier\\lib\\site-packages (from requests->pyVinted) (3.7)\n",
      "Requirement already satisfied: urllib3<3,>=1.21.1 in c:\\users\\marie-laure\\downloads\\sons\\nouveau dossier\\lib\\site-packages (from requests->pyVinted) (2.2.3)\n",
      "Requirement already satisfied: certifi>=2017.4.17 in c:\\users\\marie-laure\\downloads\\sons\\nouveau dossier\\lib\\site-packages (from requests->pyVinted) (2024.8.30)\n",
      "\n",
      "\n",
      "The mean = 5.09\n",
      "The quantile 25 = 3.0\n",
      "The quantile 75 = 3.0\n",
      "The max = 24.99\n",
      "The min = 1.0\n"
     ]
    }
   ],
   "source": [
    "!pip install pyVinted\n",
    "from pyVinted import Vinted\n",
    "import pandas as pd\n",
    "\n",
    "#https://pypi.org/project/pyVinted/\n",
    "\n",
    "vinted = Vinted()\n",
    "\n",
    "# search(url, number_of_items, page_number)\n",
    "#items = vinted.items.search(\"https://www.vinted.fr/catalog/1231-shoes?time=1733829157\",100,1)\n",
    "#returns a list of objects: item\n",
    "\n",
    "def product_info(url):\n",
    "    items = vinted.items.search(url,100,1)\n",
    "\n",
    "    dict_article ={}\n",
    "    key = 0\n",
    "    for item in items:\n",
    "        dict_article[key] = {\n",
    "        'Article_title' : item.title,\n",
    "        'Price' : item.price}\n",
    "\n",
    "        key+=1\n",
    "    \n",
    "\n",
    "    df = pd.DataFrame.from_dict(dict_article, orient='index')\n",
    "    df['Price'] = df['Price'].astype(float)\n",
    "    mean = df['Price'].mean()\n",
    "    mean_round = round(mean, 2)\n",
    "    \n",
    "    q25 = df['Price'].quantile(0.25)\n",
    "    q75 = df['Price'].quantile(0.75)\n",
    "    mini = df['Price'].min()\n",
    "    maxi = df['Price'].max()\n",
    "\n",
    "    return mean_round, q25, q75, mini, maxi\n",
    "\n",
    "mean_round, q25, q75, mini, maxi = product_info(\"https://www.vinted.fr/catalog?time=1733851005&search_id=19342910703&catalog[]=257&catalog_from=0&page=1&size_ids[]=1631&brand_ids[]=7&status_ids[]=6\")\n",
    "\n",
    "print()\n",
    "print()\n",
    "print(f\"The mean = {mean_round}\")\n",
    "print(f\"The quantile 25 = {q25}\")\n",
    "print(f\"The quantile 75 = {q25}\")\n",
    "print(f\"The max = {maxi}\")\n",
    "print(f\"The min = {mini}\")\n"
   ]
  },
  {
   "cell_type": "code",
   "execution_count": null,
   "id": "d8e153a8-338b-41c1-93e5-755a684fcd06",
   "metadata": {},
   "outputs": [],
   "source": []
  },
  {
   "cell_type": "code",
   "execution_count": 19,
   "id": "9f9da5b0-a3fc-4555-a0f6-f9aa1bf03065",
   "metadata": {},
   "outputs": [
    {
     "data": {
      "text/plain": [
       "['https://vinted.com/catalog/10-dresses?search_id=19359377648/catalog_from=0&page=1&brand_ids[]=14',\n",
       " 'https://vinted.com/catalog/79-jumpers-and-sweaters?search_id=19359343488/catalog_from=0&page=1&brand_ids[]=14',\n",
       " 'https://vinted.com/catalog/10-dresses?search_id=19359377648/search_id=19359587836&brand_ids[]=53']"
      ]
     },
     "execution_count": 19,
     "metadata": {},
     "output_type": "execute_result"
    }
   ],
   "source": [
    "catalog_dict = {\n",
    "\n",
    "    \"catalog_id_category\" : {\n",
    "        \"dress\" : \"10-dresses?search_id=19359377648\",\n",
    "        \"sweater\" : \"79-jumpers-and-sweaters?search_id=19359343488\"},\n",
    "\n",
    "    \"catalog_id_brand\" : {\n",
    "        \"addidas\" :\"catalog_from=0&page=1&brand_ids[]=14\",\n",
    "        \"nike\" : \"search_id=19359587836&brand_ids[]=53\"}}\n",
    "\n",
    "\n",
    "article_dict = {\n",
    "    \"article 1\": {\"category\":\"dress\",\n",
    "                \"brand\" : \"addidas\"},\n",
    "    \"article 2\": {\"category\" : \"sweater\",\n",
    "                    \"brand\" : \"addidas\"},\n",
    "    \"article 3\": {\"category\":\"dress\",\n",
    "                    \"brand\" : \"nike\"}}\n",
    "\n",
    "def get_url(article_dict):\n",
    "    url = \"https://vinted.com/catalog\"\n",
    "    url_val1 = \"\"\n",
    "    url_val2=\"\"\n",
    "\n",
    "\n",
    "    list_url =[]\n",
    "    for article, val in article_dict.items():\n",
    "        for typ, value in val.items():\n",
    "            if value in catalog_dict[\"catalog_id_category\"]:\n",
    "                url_val1 = catalog_dict[\"catalog_id_category\"][value]\n",
    "                \n",
    "            if value in catalog_dict[\"catalog_id_brand\"]:\n",
    "                url_val2 = catalog_dict[\"catalog_id_brand\"][value] \n",
    "\n",
    "                \n",
    "                url_val = url + \"/\" + url_val1 + \"/\" +url_val2   \n",
    "                list_url.append(url_val)\n",
    "\n",
    "    return list_url\n",
    "get_url(article_dict)    \n",
    "    \n",
    "\n"
   ]
  },
  {
   "cell_type": "code",
   "execution_count": 36,
   "id": "aca7d2bf-74a8-4ebf-baaa-02b2774c9caa",
   "metadata": {},
   "outputs": [
    {
     "data": {
      "text/plain": [
       "['https://vinted.com/catalog/10-dresses?search_id=19359377648/catalog_from=0&page=1&brand_ids[]=14',\n",
       " 'https://vinted.com/catalog/79-jumpers-and-sweaters?search_id=19359343488/catalog_from=0&page=1&brand_ids[]=14',\n",
       " 'https://vinted.com/catalog/10-dresses?search_id=19359377648/search_id=19359587836&brand_ids[]=53']"
      ]
     },
     "execution_count": 36,
     "metadata": {},
     "output_type": "execute_result"
    }
   ],
   "source": [
    "catalog_dict = {\n",
    "\n",
    "    \"catalog_id_category\" : {\n",
    "        \"dress\" : \"10-dresses?search_id=19359377648\",\n",
    "        \"sweater\" : \"79-jumpers-and-sweaters?search_id=19359343488\"},\n",
    "\n",
    "    \"catalog_id_brand\" : {\n",
    "        \"addidas\" :\"catalog_from=0&page=1&brand_ids[]=14\",\n",
    "        \"nike\" : \"search_id=19359587836&brand_ids[]=53\"}}\n",
    "\n",
    "\n",
    "article_dict = {\n",
    "    \"article 1\": {\"category\":\"dress\",\n",
    "                \"brand\" : \"addidas\"},\n",
    "    \"article 2\": {\"category\" : \"sweater\",\n",
    "                    \"brand\" : \"addidas\"},\n",
    "    \"article 3\": {\"category\":\"dress\",\n",
    "                    \"brand\" : \"nike\"}}\n",
    "\n",
    "def get_url(article_dict):\n",
    "    url = \"https://vinted.com/catalog\"\n",
    "    url_val = \"\"\n",
    "\n",
    "    list_url =[]\n",
    "    for data, val in article_dict.items():\n",
    "        category = val[\"category\"]\n",
    "        brand = val[\"brand\"]\n",
    "\n",
    "        if category in catalog_dict[\"catalog_id_category\"] and brand in catalog_dict[\"catalog_id_brand\"]:\n",
    "            url_val = url + \"/\" + catalog_dict[\"catalog_id_category\"][category] + \"/\" + catalog_dict[\"catalog_id_brand\"][brand]\n",
    "            list_url.append(url_val)\n",
    "\n",
    "    return list_url\n",
    "get_url(article_dict)    \n",
    "    "
   ]
  }
 ],
 "metadata": {
  "kernelspec": {
   "display_name": "Python 3 (ipykernel)",
   "language": "python",
   "name": "python3"
  },
  "language_info": {
   "codemirror_mode": {
    "name": "ipython",
    "version": 3
   },
   "file_extension": ".py",
   "mimetype": "text/x-python",
   "name": "python",
   "nbconvert_exporter": "python",
   "pygments_lexer": "ipython3",
   "version": "3.12.7"
  }
 },
 "nbformat": 4,
 "nbformat_minor": 5
}
